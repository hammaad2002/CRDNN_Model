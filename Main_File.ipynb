{
  "nbformat": 4,
  "nbformat_minor": 0,
  "metadata": {
    "colab": {
      "provenance": [],
      "authorship_tag": "ABX9TyN4bjjtmON96KLT5Qgu8anW",
      "include_colab_link": true
    },
    "kernelspec": {
      "name": "python3",
      "display_name": "Python 3"
    },
    "language_info": {
      "name": "python"
    },
    "accelerator": "GPU",
    "gpuClass": "standard"
  },
  "cells": [
    {
      "cell_type": "markdown",
      "metadata": {
        "id": "view-in-github",
        "colab_type": "text"
      },
      "source": [
        "<a href=\"https://colab.research.google.com/github/hammaad2002/CRDNN_Model/blob/Timit/Main_File.ipynb\" target=\"_parent\"><img src=\"https://colab.research.google.com/assets/colab-badge.svg\" alt=\"Open In Colab\"/></a>"
      ]
    },
    {
      "cell_type": "code",
      "execution_count": 1,
      "metadata": {
        "colab": {
          "base_uri": "https://localhost:8080/"
        },
        "id": "Cy_TLDgd0ygd",
        "outputId": "ec931740-3897-41f6-ea0a-37f0fed1492c"
      },
      "outputs": [
        {
          "output_type": "stream",
          "name": "stdout",
          "text": [
            "Mounted at /content/drive\n"
          ]
        }
      ],
      "source": [
        "from google.colab import drive\n",
        "drive.mount('/content/drive')"
      ]
    },
    {
      "cell_type": "code",
      "source": [
        "from google.colab import auth\n",
        "from googleapiclient.discovery import build\n",
        "from googleapiclient.errors import HttpError\n",
        "\n",
        "# Authenticate and create a service object\n",
        "auth.authenticate_user()\n",
        "service = build('drive', 'v3')\n",
        "\n",
        "try:\n",
        "  # Search for the file by its name\n",
        "  query = \"name='TIMIT.zip'\"\n",
        "  results = service.files().list(q=query, fields=\"nextPageToken, files(id, name)\").execute()\n",
        "  items = results.get(\"files\", [])\n",
        "\n",
        "  # Print the results\n",
        "  print(f'Total files found: {len(items)}')\n",
        "  for item in items:\n",
        "    print(f'{item[\"name\"]} ({item[\"id\"]})')\n",
        "\n",
        "except HttpError as error:\n",
        "  print(f'An error occurred: {error}')"
      ],
      "metadata": {
        "colab": {
          "base_uri": "https://localhost:8080/"
        },
        "id": "52bIMxsR06qU",
        "outputId": "1d91c986-e6ce-424d-81e1-ae67ba80b86c"
      },
      "execution_count": 2,
      "outputs": [
        {
          "output_type": "stream",
          "name": "stdout",
          "text": [
            "Total files found: 1\n",
            "TIMIT.zip (1QK2FOzKqattBoEQVSMSR67bqLPFWZgf-)\n"
          ]
        }
      ]
    },
    {
      "cell_type": "code",
      "source": [
        "import os\n",
        "os.mkdir(\"/content/Timit\")"
      ],
      "metadata": {
        "id": "7SZw1Jml09RD"
      },
      "execution_count": 3,
      "outputs": []
    },
    {
      "cell_type": "code",
      "source": [
        "import shutil\n",
        "shutil.copy(\"/content/drive/MyDrive/TIMIT/TIMIT.zip\", \"/content/Timit/\")"
      ],
      "metadata": {
        "colab": {
          "base_uri": "https://localhost:8080/",
          "height": 36
        },
        "id": "_Zc128c20--U",
        "outputId": "940bc893-4f57-4b9c-92df-d3defafff865"
      },
      "execution_count": 4,
      "outputs": [
        {
          "output_type": "execute_result",
          "data": {
            "text/plain": [
              "'/content/Timit/TIMIT.zip'"
            ],
            "application/vnd.google.colaboratory.intrinsic+json": {
              "type": "string"
            }
          },
          "metadata": {},
          "execution_count": 4
        }
      ]
    },
    {
      "cell_type": "code",
      "source": [
        "import zipfile\n",
        "# Replace 'myzipfile.zip' with the path to your zip file\n",
        "with zipfile.ZipFile('/content/Timit/TIMIT.zip', 'r') as zip_ref:\n",
        "  # Extract the zip file to the 'extract' subdirectory\n",
        "  zip_ref.extractall('/content/Timit/')"
      ],
      "metadata": {
        "id": "B41wM9vZ1BAE"
      },
      "execution_count": 5,
      "outputs": []
    },
    {
      "cell_type": "code",
      "source": [
        "shutil.copytree(\"/content/Timit/data/lisa/data/timit/raw/TIMIT\", \"/content/Timit/TIMITDATA\")"
      ],
      "metadata": {
        "colab": {
          "base_uri": "https://localhost:8080/",
          "height": 36
        },
        "id": "TBmbFVJw1DKc",
        "outputId": "abbd0a8d-9db4-44ee-bbed-cfe1915cbfbd"
      },
      "execution_count": 6,
      "outputs": [
        {
          "output_type": "execute_result",
          "data": {
            "text/plain": [
              "'/content/Timit/TIMITDATA'"
            ],
            "application/vnd.google.colaboratory.intrinsic+json": {
              "type": "string"
            }
          },
          "metadata": {},
          "execution_count": 6
        }
      ]
    },
    {
      "cell_type": "code",
      "source": [
        "shutil.rmtree(\"/content/Timit/data/\")"
      ],
      "metadata": {
        "id": "EH9VPRDB1IGz"
      },
      "execution_count": 7,
      "outputs": []
    },
    {
      "cell_type": "code",
      "source": [
        "os.remove(\"/content/Timit/TIMIT.zip\")"
      ],
      "metadata": {
        "id": "-YbuWjH95EjE"
      },
      "execution_count": 8,
      "outputs": []
    },
    {
      "cell_type": "code",
      "source": [
        "%cd /content/"
      ],
      "metadata": {
        "colab": {
          "base_uri": "https://localhost:8080/"
        },
        "id": "wI-ddiiw5NbM",
        "outputId": "9753816b-0fcd-4887-acb1-02890ac04aee"
      },
      "execution_count": 9,
      "outputs": [
        {
          "output_type": "stream",
          "name": "stdout",
          "text": [
            "/content\n"
          ]
        }
      ]
    },
    {
      "cell_type": "code",
      "source": [
        "!pwd"
      ],
      "metadata": {
        "colab": {
          "base_uri": "https://localhost:8080/"
        },
        "id": "LvCfpiu05RS0",
        "outputId": "9d681a58-c5df-4c71-c41c-4bed49e86e44"
      },
      "execution_count": 10,
      "outputs": [
        {
          "output_type": "stream",
          "name": "stdout",
          "text": [
            "/content\n"
          ]
        }
      ]
    },
    {
      "cell_type": "code",
      "source": [
        "%%capture               \n",
        "!pip install speechbrain\n",
        "!git clone -b Timit https://github.com/hammaad2002/CRDNN_Model.git"
      ],
      "metadata": {
        "id": "sjBhRDDI2Am8"
      },
      "execution_count": 11,
      "outputs": []
    },
    {
      "cell_type": "code",
      "source": [
        "%cd /content/CRDNN_Model"
      ],
      "metadata": {
        "colab": {
          "base_uri": "https://localhost:8080/"
        },
        "id": "_ni0bsm_2ZOy",
        "outputId": "471124a5-da08-4837-d89a-af53f2856efb"
      },
      "execution_count": 12,
      "outputs": [
        {
          "output_type": "stream",
          "name": "stdout",
          "text": [
            "/content/CRDNN_Model\n"
          ]
        }
      ]
    },
    {
      "cell_type": "code",
      "source": [
        "!python example_asr_ctc_experiment.py hyperparams.yaml"
      ],
      "metadata": {
        "colab": {
          "base_uri": "https://localhost:8080/"
        },
        "id": "zqxkbx4z2eBT",
        "outputId": "3daaa773-9ed8-40be-afd1-cb814a9b4fad"
      },
      "execution_count": 13,
      "outputs": [
        {
          "output_type": "stream",
          "name": "stdout",
          "text": [
            "  0% 5/3696 [00:05<1:10:26,  1.15s/it, train_loss=13.2]\n",
            "Traceback (most recent call last):\n",
            "  File \"example_asr_ctc_experiment.py\", line 147, in <module>\n",
            "    main()\n",
            "  File \"example_asr_ctc_experiment.py\", line 132, in main\n",
            "    ctc_brain.fit(\n",
            "  File \"/usr/local/lib/python3.8/dist-packages/speechbrain/core.py\", line 1153, in fit\n",
            "    self._fit_train(train_set=train_set, epoch=epoch, enable=enable)\n",
            "  File \"/usr/local/lib/python3.8/dist-packages/speechbrain/core.py\", line 1009, in _fit_train\n",
            "    loss = self.fit_batch(batch)\n",
            "  File \"/usr/local/lib/python3.8/dist-packages/speechbrain/core.py\", line 881, in fit_batch\n",
            "    outputs = self.compute_forward(batch, Stage.TRAIN)\n",
            "  File \"example_asr_ctc_experiment.py\", line 22, in compute_forward\n",
            "    x = self.modules.model(feats)\n",
            "  File \"/usr/local/lib/python3.8/dist-packages/torch/nn/modules/module.py\", line 1190, in _call_impl\n",
            "    return forward_call(*input, **kwargs)\n",
            "  File \"/usr/local/lib/python3.8/dist-packages/speechbrain/nnet/containers.py\", line 144, in forward\n",
            "    x = layer(x)\n",
            "  File \"/usr/local/lib/python3.8/dist-packages/torch/nn/modules/module.py\", line 1190, in _call_impl\n",
            "    return forward_call(*input, **kwargs)\n",
            "  File \"/usr/local/lib/python3.8/dist-packages/speechbrain/nnet/containers.py\", line 144, in forward\n",
            "    x = layer(x)\n",
            "  File \"/usr/local/lib/python3.8/dist-packages/torch/nn/modules/module.py\", line 1190, in _call_impl\n",
            "    return forward_call(*input, **kwargs)\n",
            "  File \"/usr/local/lib/python3.8/dist-packages/speechbrain/nnet/containers.py\", line 144, in forward\n",
            "    x = layer(x)\n",
            "  File \"/usr/local/lib/python3.8/dist-packages/torch/nn/modules/module.py\", line 1190, in _call_impl\n",
            "    return forward_call(*input, **kwargs)\n",
            "  File \"/usr/local/lib/python3.8/dist-packages/speechbrain/nnet/CNN.py\", line 627, in forward\n",
            "    x = self._manage_padding(\n",
            "  File \"/usr/local/lib/python3.8/dist-packages/speechbrain/nnet/CNN.py\", line 680, in _manage_padding\n",
            "    x = nn.functional.pad(x, padding, mode=self.padding_mode)\n",
            "KeyboardInterrupt\n",
            "^C\n"
          ]
        }
      ]
    }
  ]
}