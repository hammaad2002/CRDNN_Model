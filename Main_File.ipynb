{
  "nbformat": 4,
  "nbformat_minor": 0,
  "metadata": {
    "colab": {
      "provenance": [],
      "authorship_tag": "ABX9TyOqodzxuUIUcsWuIdgZRVoM",
      "include_colab_link": true
    },
    "kernelspec": {
      "name": "python3",
      "display_name": "Python 3"
    },
    "language_info": {
      "name": "python"
    }
  },
  "cells": [
    {
      "cell_type": "markdown",
      "metadata": {
        "id": "view-in-github",
        "colab_type": "text"
      },
      "source": [
        "<a href=\"https://colab.research.google.com/github/hammaad2002/CRDNN_Model/blob/main/Main_File.ipynb\" target=\"_parent\"><img src=\"https://colab.research.google.com/assets/colab-badge.svg\" alt=\"Open In Colab\"/></a>"
      ]
    },
    {
      "cell_type": "code",
      "execution_count": 1,
      "metadata": {
        "id": "R0nK01dDtW-Y"
      },
      "outputs": [],
      "source": [
        "%%capture               \n",
        "!pip install speechbrain\n",
        "!git config --global --unset http.proxy\n",
        "!git clone https://github.com/hammaad2002/CRDNN_Model.git\n",
        "#import import shutil\n",
        "#shutil.rmtree(\"my_dir\") Just in if needed to remove some directory"
      ]
    },
    {
      "cell_type": "code",
      "source": [
        "%cd /content/CRDNN_Model/  \n",
        "!python example_asr_ctc_experiment.py hyperparams.yaml"
      ],
      "metadata": {
        "colab": {
          "base_uri": "https://localhost:8080/"
        },
        "id": "K56E7jdTtczw",
        "outputId": "cdba669d-eb1c-420d-80b9-4c98ed9d8e69"
      },
      "execution_count": 3,
      "outputs": [
        {
          "output_type": "stream",
          "name": "stdout",
          "text": [
            "/content/CRDNN_Model\n",
            "100% 8/8 [00:03<00:00,  2.31it/s, train_loss=12.2]\n",
            "100% 8/8 [00:01<00:00,  6.61it/s]\n",
            "Epoch 0 complete\n",
            "Train loss: 12.20\n",
            "Stage.VALID loss: 6.14\n",
            "Stage.VALID PER: 88.72\n",
            "100% 8/8 [00:03<00:00,  2.50it/s, train_loss=7.09]\n",
            "100% 8/8 [00:01<00:00,  6.63it/s]\n",
            "Epoch 1 complete\n",
            "Train loss: 7.09\n",
            "Stage.VALID loss: 4.68\n",
            "Stage.VALID PER: 89.74\n",
            "100% 8/8 [00:03<00:00,  2.50it/s, train_loss=4.73]\n",
            "100% 8/8 [00:01<00:00,  6.64it/s]\n",
            "Epoch 2 complete\n",
            "Train loss: 4.73\n",
            "Stage.VALID loss: 3.85\n",
            "Stage.VALID PER: 90.26\n",
            "100% 8/8 [00:03<00:00,  2.54it/s, train_loss=3.66]\n",
            "100% 8/8 [00:01<00:00,  6.59it/s]\n",
            "Epoch 3 complete\n",
            "Train loss: 3.66\n",
            "Stage.VALID loss: 3.47\n",
            "Stage.VALID PER: 90.26\n",
            "100% 8/8 [00:03<00:00,  2.55it/s, train_loss=3.16]\n",
            "100% 8/8 [00:01<00:00,  6.61it/s]\n",
            "Epoch 4 complete\n",
            "Train loss: 3.16\n",
            "Stage.VALID loss: 3.13\n",
            "Stage.VALID PER: 88.21\n",
            "100% 8/8 [00:03<00:00,  2.52it/s, train_loss=2.83]\n",
            "100% 8/8 [00:01<00:00,  6.44it/s]\n",
            "Epoch 5 complete\n",
            "Train loss: 2.83\n",
            "Stage.VALID loss: 2.64\n",
            "Stage.VALID PER: 88.21\n",
            "100% 8/8 [00:03<00:00,  2.53it/s, train_loss=2.43]\n",
            "100% 8/8 [00:01<00:00,  6.58it/s]\n",
            "Epoch 6 complete\n",
            "Train loss: 2.43\n",
            "Stage.VALID loss: 2.29\n",
            "Stage.VALID PER: 85.13\n",
            "100% 8/8 [00:03<00:00,  2.55it/s, train_loss=2.09]\n",
            "100% 8/8 [00:01<00:00,  6.68it/s]\n",
            "Epoch 7 complete\n",
            "Train loss: 2.09\n",
            "Stage.VALID loss: 1.98\n",
            "Stage.VALID PER: 80.51\n",
            "100% 8/8 [00:03<00:00,  2.55it/s, train_loss=1.8]\n",
            "100% 8/8 [00:01<00:00,  6.66it/s]\n",
            "Epoch 8 complete\n",
            "Train loss: 1.80\n",
            "Stage.VALID loss: 1.71\n",
            "Stage.VALID PER: 68.21\n",
            "100% 8/8 [00:03<00:00,  2.52it/s, train_loss=1.46]\n",
            "100% 8/8 [00:01<00:00,  6.60it/s]\n",
            "Epoch 9 complete\n",
            "Train loss: 1.46\n",
            "Stage.VALID loss: 1.41\n",
            "Stage.VALID PER: 50.26\n",
            "100% 8/8 [00:03<00:00,  2.54it/s, train_loss=1.19]\n",
            "100% 8/8 [00:01<00:00,  6.58it/s]\n",
            "Epoch 10 complete\n",
            "Train loss: 1.19\n",
            "Stage.VALID loss: 1.09\n",
            "Stage.VALID PER: 43.08\n",
            "100% 8/8 [00:03<00:00,  2.52it/s, train_loss=0.931]\n",
            "100% 8/8 [00:01<00:00,  6.44it/s]\n",
            "Epoch 11 complete\n",
            "Train loss: 0.93\n",
            "Stage.VALID loss: 0.94\n",
            "Stage.VALID PER: 26.67\n",
            "100% 8/8 [00:03<00:00,  2.53it/s, train_loss=0.706]\n",
            "100% 8/8 [00:01<00:00,  6.48it/s]\n",
            "Epoch 12 complete\n",
            "Train loss: 0.71\n",
            "Stage.VALID loss: 0.59\n",
            "Stage.VALID PER: 13.85\n",
            "100% 8/8 [00:03<00:00,  2.55it/s, train_loss=0.558]\n",
            "100% 8/8 [00:01<00:00,  6.70it/s]\n",
            "Epoch 13 complete\n",
            "Train loss: 0.56\n",
            "Stage.VALID loss: 0.43\n",
            "Stage.VALID PER: 8.72\n",
            "100% 8/8 [00:03<00:00,  2.57it/s, train_loss=0.394]\n",
            "100% 8/8 [00:01<00:00,  6.57it/s]\n",
            "Epoch 14 complete\n",
            "Train loss: 0.39\n",
            "Stage.VALID loss: 0.32\n",
            "Stage.VALID PER: 3.59\n",
            "100% 8/8 [00:01<00:00,  6.65it/s]\n",
            "Stage.TEST loss: 0.32\n",
            "Stage.TEST PER: 3.59\n"
          ]
        }
      ]
    }
  ]
}