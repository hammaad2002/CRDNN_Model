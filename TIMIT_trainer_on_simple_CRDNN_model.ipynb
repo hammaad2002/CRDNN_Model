{
  "nbformat": 4,
  "nbformat_minor": 0,
  "metadata": {
    "colab": {
      "provenance": [],
      "authorship_tag": "ABX9TyPLbNoZOYGzaPjDHwCpGBAJ",
      "include_colab_link": true
    },
    "kernelspec": {
      "name": "python3",
      "display_name": "Python 3"
    },
    "language_info": {
      "name": "python"
    }
  },
  "cells": [
    {
      "cell_type": "markdown",
      "metadata": {
        "id": "view-in-github",
        "colab_type": "text"
      },
      "source": [
        "<a href=\"https://colab.research.google.com/github/hammaad2002/CRDNN_Model/blob/Timit/TIMIT_trainer_on_simple_CRDNN_model.ipynb\" target=\"_parent\"><img src=\"https://colab.research.google.com/assets/colab-badge.svg\" alt=\"Open In Colab\"/></a>"
      ]
    },
    {
      "cell_type": "code",
      "execution_count": null,
      "metadata": {
        "colab": {
          "base_uri": "https://localhost:8080/"
        },
        "id": "8AaW-bbXu5-4",
        "outputId": "bc3b0dc4-f56c-4509-def5-5efd638db606"
      },
      "outputs": [
        {
          "output_type": "stream",
          "name": "stdout",
          "text": [
            "Mounted at /content/drive\n"
          ]
        }
      ],
      "source": [
        "from google.colab import drive\n",
        "drive.mount('/content/drive')"
      ]
    },
    {
      "cell_type": "code",
      "source": [
        "from google.colab import auth\n",
        "from googleapiclient.discovery import build\n",
        "from googleapiclient.errors import HttpError\n",
        "\n",
        "# Authenticate and create a service object\n",
        "auth.authenticate_user()\n",
        "service = build('drive', 'v3')\n",
        "\n",
        "try:\n",
        "  # Search for the file by its name\n",
        "  query = \"name='TIMIT.zip'\"\n",
        "  results = service.files().list(q=query, fields=\"nextPageToken, files(id, name)\").execute()\n",
        "  items = results.get(\"files\", [])\n",
        "\n",
        "  # Print the results\n",
        "  print(f'Total files found: {len(items)}')\n",
        "  for item in items:\n",
        "    print(f'{item[\"name\"]} ({item[\"id\"]})')\n",
        "\n",
        "except HttpError as error:\n",
        "  print(f'An error occurred: {error}')"
      ],
      "metadata": {
        "colab": {
          "base_uri": "https://localhost:8080/"
        },
        "id": "k-YA4KkG7-7S",
        "outputId": "9f2d048b-2406-4bdf-b396-68451933c606"
      },
      "execution_count": null,
      "outputs": [
        {
          "output_type": "stream",
          "name": "stdout",
          "text": [
            "Total files found: 1\n",
            "TIMIT.zip (1QK2FOzKqattBoEQVSMSR67bqLPFWZgf-)\n"
          ]
        }
      ]
    },
    {
      "cell_type": "code",
      "source": [
        "import os\n",
        "os.mkdir(\"/content/Timit\")"
      ],
      "metadata": {
        "id": "87oPlfvV8uWJ"
      },
      "execution_count": null,
      "outputs": []
    },
    {
      "cell_type": "code",
      "source": [
        "import shutil\n",
        "shutil.copy(\"/content/drive/MyDrive/TIMIT/TIMIT.zip\", \"/content/Timit/\")"
      ],
      "metadata": {
        "colab": {
          "base_uri": "https://localhost:8080/",
          "height": 36
        },
        "id": "-_frqynq8R3a",
        "outputId": "bec50c62-12cf-4067-8435-787a7b9962f5"
      },
      "execution_count": null,
      "outputs": [
        {
          "output_type": "execute_result",
          "data": {
            "text/plain": [
              "'/content/Timit/TIMIT.zip'"
            ],
            "application/vnd.google.colaboratory.intrinsic+json": {
              "type": "string"
            }
          },
          "metadata": {},
          "execution_count": 4
        }
      ]
    },
    {
      "cell_type": "code",
      "source": [
        "import zipfile\n",
        "# Replace 'myzipfile.zip' with the path to your zip file\n",
        "with zipfile.ZipFile('/content/Timit/TIMIT.zip', 'r') as zip_ref:\n",
        "  # Extract the zip file to the 'extract' subdirectory\n",
        "  zip_ref.extractall('/content/Timit/')"
      ],
      "metadata": {
        "id": "ZB9A25i79WXI"
      },
      "execution_count": null,
      "outputs": []
    },
    {
      "cell_type": "code",
      "source": [
        "shutil.copytree(\"/content/Timit/data/lisa/data/timit/raw/TIMIT\", \"/content/Timit/TIMITDATA\")"
      ],
      "metadata": {
        "colab": {
          "base_uri": "https://localhost:8080/",
          "height": 36
        },
        "id": "Gx5jHYtj9nUP",
        "outputId": "df5df7fa-d1c8-45f9-c091-13c2e9945e04"
      },
      "execution_count": null,
      "outputs": [
        {
          "output_type": "execute_result",
          "data": {
            "text/plain": [
              "'/content/Timit/TIMITDATA'"
            ],
            "application/vnd.google.colaboratory.intrinsic+json": {
              "type": "string"
            }
          },
          "metadata": {},
          "execution_count": 6
        }
      ]
    },
    {
      "cell_type": "code",
      "source": [
        "os.remove(\"/content/Timit/TIMIT.zip\")"
      ],
      "metadata": {
        "id": "2HpHpclM-R7T"
      },
      "execution_count": null,
      "outputs": []
    },
    {
      "cell_type": "code",
      "source": [
        "shutil.rmtree(\"/content/Timit/data/\")"
      ],
      "metadata": {
        "id": "TG_NuzKWqI_5"
      },
      "execution_count": null,
      "outputs": []
    },
    {
      "cell_type": "code",
      "source": [
        "%%capture\n",
        "# Local installation\n",
        "!git clone https://github.com/speechbrain/speechbrain/\n",
        "%cd /content/speechbrain/\n",
        "!pip install -r requirements.txt\n",
        "!pip install -e ."
      ],
      "metadata": {
        "id": "16mwyCqv_AT0"
      },
      "execution_count": null,
      "outputs": []
    },
    {
      "cell_type": "code",
      "source": [
        "%%capture\n",
        "# For pip installation\n",
        "!pip install speechbrain"
      ],
      "metadata": {
        "id": "ZjbGg____CRE"
      },
      "execution_count": null,
      "outputs": []
    },
    {
      "cell_type": "code",
      "source": [
        "shutil.copy(\"/content/speechbrain/recipes/TIMIT/timit_prepare.py\", \"/content/Timit/\")"
      ],
      "metadata": {
        "colab": {
          "base_uri": "https://localhost:8080/",
          "height": 36
        },
        "id": "i26Mf3Ad_8ZK",
        "outputId": "d01df1f7-5f0b-4f9b-d096-642919fd641c"
      },
      "execution_count": null,
      "outputs": [
        {
          "output_type": "execute_result",
          "data": {
            "text/plain": [
              "'/content/Timit/timit_prepare.py'"
            ],
            "application/vnd.google.colaboratory.intrinsic+json": {
              "type": "string"
            }
          },
          "metadata": {},
          "execution_count": 16
        }
      ]
    },
    {
      "cell_type": "code",
      "source": [
        "!pwd"
      ],
      "metadata": {
        "colab": {
          "base_uri": "https://localhost:8080/"
        },
        "id": "ORXXAsWbCzbm",
        "outputId": "380344f1-bd2c-42fd-d73a-7a08ba8a9906"
      },
      "execution_count": null,
      "outputs": [
        {
          "output_type": "stream",
          "name": "stdout",
          "text": [
            "/content/speechbrain\n"
          ]
        }
      ]
    },
    {
      "cell_type": "code",
      "source": [
        "#os.remove(\"/content/timitFileCreator.py\")"
      ],
      "metadata": {
        "id": "EyRJ_jPJDSL9"
      },
      "execution_count": null,
      "outputs": []
    },
    {
      "cell_type": "code",
      "source": [
        "%cd /content/Timit/"
      ],
      "metadata": {
        "colab": {
          "base_uri": "https://localhost:8080/"
        },
        "id": "eC55rG0IC4ZV",
        "outputId": "d98fbf5c-1d3f-4242-e51a-254cc74706c0"
      },
      "execution_count": null,
      "outputs": [
        {
          "output_type": "stream",
          "name": "stdout",
          "text": [
            "/content/Timit\n"
          ]
        }
      ]
    },
    {
      "cell_type": "code",
      "source": [
        "%%writefile timitFileCreator.py\n",
        "from timit_prepare import prepare_timit\n",
        "data_folder = '/content/Timit/TIMITDATA'\n",
        "\n",
        "prepare_timit(\n",
        "        data_folder=data_folder,\n",
        "        save_json_train='/content/train.json',\n",
        "        save_json_valid='/content/valid.json',\n",
        "        save_json_test='/content/test.json',\n",
        "        uppercase = True,\n",
        "        skip_prep = False,\n",
        "    )"
      ],
      "metadata": {
        "colab": {
          "base_uri": "https://localhost:8080/"
        },
        "id": "r3S3vsfHCpB2",
        "outputId": "1ae527d5-3f51-4b09-e506-1d597527feba"
      },
      "execution_count": null,
      "outputs": [
        {
          "output_type": "stream",
          "name": "stdout",
          "text": [
            "Writing timitFileCreator.py\n"
          ]
        }
      ]
    },
    {
      "cell_type": "code",
      "source": [
        "!pwd"
      ],
      "metadata": {
        "colab": {
          "base_uri": "https://localhost:8080/"
        },
        "id": "NluT6jvQut2Y",
        "outputId": "35b7e949-096a-4ddb-de80-eaba9a12710a"
      },
      "execution_count": null,
      "outputs": [
        {
          "output_type": "stream",
          "name": "stdout",
          "text": [
            "/content/Timit\n"
          ]
        }
      ]
    },
    {
      "cell_type": "code",
      "source": [
        "!python timitFileCreator.py"
      ],
      "metadata": {
        "id": "Ju3QC_JQAFPK"
      },
      "execution_count": null,
      "outputs": []
    },
    {
      "cell_type": "code",
      "source": [
        "!git clone https://github.com/hammaad2002/CRDNN_Model.git"
      ],
      "metadata": {
        "colab": {
          "base_uri": "https://localhost:8080/"
        },
        "id": "lirWWl3axg6j",
        "outputId": "9bf1c172-5c09-4438-dfd5-d6711e00322d"
      },
      "execution_count": null,
      "outputs": [
        {
          "output_type": "stream",
          "name": "stdout",
          "text": [
            "Cloning into 'CRDNN_Model'...\n",
            "remote: Enumerating objects: 25, done.\u001b[K\n",
            "remote: Counting objects:   4% (1/25)\u001b[K\rremote: Counting objects:   8% (2/25)\u001b[K\rremote: Counting objects:  12% (3/25)\u001b[K\rremote: Counting objects:  16% (4/25)\u001b[K\rremote: Counting objects:  20% (5/25)\u001b[K\rremote: Counting objects:  24% (6/25)\u001b[K\rremote: Counting objects:  28% (7/25)\u001b[K\rremote: Counting objects:  32% (8/25)\u001b[K\rremote: Counting objects:  36% (9/25)\u001b[K\rremote: Counting objects:  40% (10/25)\u001b[K\rremote: Counting objects:  44% (11/25)\u001b[K\rremote: Counting objects:  48% (12/25)\u001b[K\rremote: Counting objects:  52% (13/25)\u001b[K\rremote: Counting objects:  56% (14/25)\u001b[K\rremote: Counting objects:  60% (15/25)\u001b[K\rremote: Counting objects:  64% (16/25)\u001b[K\rremote: Counting objects:  68% (17/25)\u001b[K\rremote: Counting objects:  72% (18/25)\u001b[K\rremote: Counting objects:  76% (19/25)\u001b[K\rremote: Counting objects:  80% (20/25)\u001b[K\rremote: Counting objects:  84% (21/25)\u001b[K\rremote: Counting objects:  88% (22/25)\u001b[K\rremote: Counting objects:  92% (23/25)\u001b[K\rremote: Counting objects:  96% (24/25)\u001b[K\rremote: Counting objects: 100% (25/25)\u001b[K\rremote: Counting objects: 100% (25/25), done.\u001b[K\n",
            "remote: Compressing objects: 100% (24/24), done.\u001b[K\n",
            "remote: Total 25 (delta 1), reused 18 (delta 0), pack-reused 0\u001b[K\n",
            "Unpacking objects: 100% (25/25), done.\n"
          ]
        }
      ]
    },
    {
      "cell_type": "code",
      "source": [
        "shutil.copy(\"/content/test.json\", \"/content/Timit/CRDNN_Model/\")"
      ],
      "metadata": {
        "colab": {
          "base_uri": "https://localhost:8080/",
          "height": 36
        },
        "id": "nT1qACKTx19u",
        "outputId": "91654283-f0e5-4a5b-f3e3-b3554ac91ffd"
      },
      "execution_count": null,
      "outputs": [
        {
          "output_type": "execute_result",
          "data": {
            "text/plain": [
              "'/content/Timit/CRDNN_Model/test.json'"
            ],
            "application/vnd.google.colaboratory.intrinsic+json": {
              "type": "string"
            }
          },
          "metadata": {},
          "execution_count": 33
        }
      ]
    },
    {
      "cell_type": "code",
      "source": [
        "shutil.copy(\"/content/train.json\", \"/content/Timit/CRDNN_Model/\")\n",
        "shutil.copy(\"/content/valid.json\", \"/content/Timit/CRDNN_Model/\")"
      ],
      "metadata": {
        "colab": {
          "base_uri": "https://localhost:8080/",
          "height": 36
        },
        "id": "5IO3vXJlyC9X",
        "outputId": "085e9c5e-3dab-4142-e150-3f80e6599baf"
      },
      "execution_count": null,
      "outputs": [
        {
          "output_type": "execute_result",
          "data": {
            "text/plain": [
              "'/content/Timit/CRDNN_Model/valid.json'"
            ],
            "application/vnd.google.colaboratory.intrinsic+json": {
              "type": "string"
            }
          },
          "metadata": {},
          "execution_count": 34
        }
      ]
    },
    {
      "cell_type": "code",
      "source": [
        "os.remove(\"/content/Timit/CRDNN_Model/ASR_dev.json\")\n",
        "os.remove(\"/content/Timit/CRDNN_Model/ASR_train.json\")\n",
        "os.remove(\"/content/Timit/CRDNN_Model/README.md\")"
      ],
      "metadata": {
        "id": "EvZSSZnqyKXH"
      },
      "execution_count": null,
      "outputs": []
    },
    {
      "cell_type": "code",
      "source": [
        "%cd /content/Timit/CRDNN_Model/\n",
        "!python example_asr_ctc_experiment.py hyperparams.yaml"
      ],
      "metadata": {
        "colab": {
          "base_uri": "https://localhost:8080/"
        },
        "id": "MmOHPjT5ywji",
        "outputId": "61b12d13-7d16-4b8e-8b8a-c0ed368fa097"
      },
      "execution_count": null,
      "outputs": [
        {
          "output_type": "stream",
          "name": "stdout",
          "text": [
            "/content/Timit/CRDNN_Model\n",
            " 10% 379/3696 [03:58<33:01,  1.67it/s, train_loss=3.24]"
          ]
        }
      ]
    }
  ]
}