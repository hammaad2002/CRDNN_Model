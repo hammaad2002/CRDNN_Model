{
  "nbformat": 4,
  "nbformat_minor": 0,
  "metadata": {
    "colab": {
      "provenance": [],
      "authorship_tag": "ABX9TyNv7JOPVRSsNxj9NzPaYR1S",
      "include_colab_link": true
    },
    "kernelspec": {
      "name": "python3",
      "display_name": "Python 3"
    },
    "language_info": {
      "name": "python"
    },
    "accelerator": "GPU",
    "gpuClass": "standard"
  },
  "cells": [
    {
      "cell_type": "markdown",
      "metadata": {
        "id": "view-in-github",
        "colab_type": "text"
      },
      "source": [
        "<a href=\"https://colab.research.google.com/github/hammaad2002/CRDNN_Model/blob/Timit/TIMIT_data_preparation.ipynb\" target=\"_parent\"><img src=\"https://colab.research.google.com/assets/colab-badge.svg\" alt=\"Open In Colab\"/></a>"
      ]
    },
    {
      "cell_type": "code",
      "execution_count": 2,
      "metadata": {
        "id": "8AaW-bbXu5-4",
        "colab": {
          "base_uri": "https://localhost:8080/"
        },
        "outputId": "95ea3a74-7349-45c1-e18f-75581809edca"
      },
      "outputs": [
        {
          "output_type": "stream",
          "name": "stdout",
          "text": [
            "Mounted at /content/drive\n"
          ]
        }
      ],
      "source": [
        "from google.colab import drive\n",
        "drive.mount('/content/drive')"
      ]
    },
    {
      "cell_type": "code",
      "source": [
        "from google.colab import auth\n",
        "from googleapiclient.discovery import build\n",
        "from googleapiclient.errors import HttpError\n",
        "\n",
        "# Authenticate and create a service object\n",
        "auth.authenticate_user()\n",
        "service = build('drive', 'v3')\n",
        "\n",
        "try:\n",
        "  # Search for the file by its name\n",
        "  query = \"name='TIMIT.zip'\"\n",
        "  results = service.files().list(q=query, fields=\"nextPageToken, files(id, name)\").execute()\n",
        "  items = results.get(\"files\", [])\n",
        "\n",
        "  # Print the results\n",
        "  print(f'Total files found: {len(items)}')\n",
        "  for item in items:\n",
        "    print(f'{item[\"name\"]} ({item[\"id\"]})')\n",
        "\n",
        "except HttpError as error:\n",
        "  print(f'An error occurred: {error}')"
      ],
      "metadata": {
        "id": "k-YA4KkG7-7S",
        "colab": {
          "base_uri": "https://localhost:8080/"
        },
        "outputId": "ddcbfef6-7d28-4ef1-f026-8033c34bad39"
      },
      "execution_count": 4,
      "outputs": [
        {
          "output_type": "stream",
          "name": "stdout",
          "text": [
            "Total files found: 1\n",
            "TIMIT.zip (1QK2FOzKqattBoEQVSMSR67bqLPFWZgf-)\n"
          ]
        }
      ]
    },
    {
      "cell_type": "code",
      "source": [
        "import os\n",
        "os.mkdir(\"/content/Timit\")"
      ],
      "metadata": {
        "id": "87oPlfvV8uWJ"
      },
      "execution_count": 5,
      "outputs": []
    },
    {
      "cell_type": "code",
      "source": [
        "import shutil\n",
        "shutil.copy(\"/content/drive/MyDrive/TIMIT/TIMIT.zip\", \"/content/Timit/\")"
      ],
      "metadata": {
        "id": "-_frqynq8R3a",
        "colab": {
          "base_uri": "https://localhost:8080/",
          "height": 36
        },
        "outputId": "c7357dff-4e77-47f6-ff66-dca061c49089"
      },
      "execution_count": 6,
      "outputs": [
        {
          "output_type": "execute_result",
          "data": {
            "text/plain": [
              "'/content/Timit/TIMIT.zip'"
            ],
            "application/vnd.google.colaboratory.intrinsic+json": {
              "type": "string"
            }
          },
          "metadata": {},
          "execution_count": 6
        }
      ]
    },
    {
      "cell_type": "code",
      "source": [
        "import zipfile\n",
        "# Replace 'myzipfile.zip' with the path to your zip file\n",
        "with zipfile.ZipFile('/content/Timit/TIMIT.zip', 'r') as zip_ref:\n",
        "  # Extract the zip file to the 'extract' subdirectory\n",
        "  zip_ref.extractall('/content/Timit/')"
      ],
      "metadata": {
        "id": "ZB9A25i79WXI"
      },
      "execution_count": 7,
      "outputs": []
    },
    {
      "cell_type": "code",
      "source": [
        "shutil.copytree(\"/content/Timit/data/lisa/data/timit/raw/TIMIT\", \"/content/Timit/TIMITDATA\")"
      ],
      "metadata": {
        "colab": {
          "base_uri": "https://localhost:8080/",
          "height": 36
        },
        "id": "Gx5jHYtj9nUP",
        "outputId": "bb62fd14-baa4-41d0-81a8-5f1eee38ec00"
      },
      "execution_count": 8,
      "outputs": [
        {
          "output_type": "execute_result",
          "data": {
            "text/plain": [
              "'/content/Timit/TIMITDATA'"
            ],
            "application/vnd.google.colaboratory.intrinsic+json": {
              "type": "string"
            }
          },
          "metadata": {},
          "execution_count": 8
        }
      ]
    },
    {
      "cell_type": "code",
      "source": [
        "os.remove(\"/content/Timit/TIMIT.zip\")"
      ],
      "metadata": {
        "id": "2HpHpclM-R7T"
      },
      "execution_count": 9,
      "outputs": []
    },
    {
      "cell_type": "code",
      "source": [
        "shutil.rmtree(\"/content/Timit/data/\")"
      ],
      "metadata": {
        "id": "TG_NuzKWqI_5"
      },
      "execution_count": 10,
      "outputs": []
    },
    {
      "cell_type": "code",
      "source": [
        "%%capture\n",
        "# Local installation\n",
        "!git clone https://github.com/speechbrain/speechbrain/\n",
        "%cd /content/speechbrain/\n",
        "!pip install -r requirements.txt\n",
        "!pip install -e ."
      ],
      "metadata": {
        "id": "16mwyCqv_AT0"
      },
      "execution_count": 11,
      "outputs": []
    },
    {
      "cell_type": "code",
      "source": [
        "%%capture\n",
        "# For pip installation\n",
        "!pip install speechbrain"
      ],
      "metadata": {
        "id": "ZjbGg____CRE"
      },
      "execution_count": 12,
      "outputs": []
    },
    {
      "cell_type": "code",
      "source": [
        "shutil.copy(\"/content/speechbrain/recipes/TIMIT/timit_prepare.py\", \"/content/Timit/\")"
      ],
      "metadata": {
        "colab": {
          "base_uri": "https://localhost:8080/",
          "height": 36
        },
        "id": "i26Mf3Ad_8ZK",
        "outputId": "e44639ed-62ab-4aa8-ef4b-551b68efe4d6"
      },
      "execution_count": 13,
      "outputs": [
        {
          "output_type": "execute_result",
          "data": {
            "text/plain": [
              "'/content/Timit/timit_prepare.py'"
            ],
            "application/vnd.google.colaboratory.intrinsic+json": {
              "type": "string"
            }
          },
          "metadata": {},
          "execution_count": 13
        }
      ]
    },
    {
      "cell_type": "code",
      "source": [
        "!pwd"
      ],
      "metadata": {
        "colab": {
          "base_uri": "https://localhost:8080/"
        },
        "id": "ORXXAsWbCzbm",
        "outputId": "12fa56e0-a5e3-4d68-81f2-cd7c9acc417c"
      },
      "execution_count": 14,
      "outputs": [
        {
          "output_type": "stream",
          "name": "stdout",
          "text": [
            "/content/speechbrain\n"
          ]
        }
      ]
    },
    {
      "cell_type": "code",
      "source": [
        "%cd /content/Timit/"
      ],
      "metadata": {
        "colab": {
          "base_uri": "https://localhost:8080/"
        },
        "id": "eC55rG0IC4ZV",
        "outputId": "12cd37b9-1652-4955-8917-e3a2bc20336f"
      },
      "execution_count": 15,
      "outputs": [
        {
          "output_type": "stream",
          "name": "stdout",
          "text": [
            "/content/Timit\n"
          ]
        }
      ]
    },
    {
      "cell_type": "code",
      "source": [
        "%%writefile timitFileCreator.py\n",
        "from timit_prepare import prepare_timit\n",
        "data_folder = '/content/Timit/TIMITDATA'\n",
        "\n",
        "prepare_timit(\n",
        "        data_folder=data_folder,\n",
        "        save_json_train='/content/train.json',\n",
        "        save_json_valid='/content/valid.json',\n",
        "        save_json_test='/content/test.json',\n",
        "        uppercase = True,\n",
        "        skip_prep = False,\n",
        "    )"
      ],
      "metadata": {
        "colab": {
          "base_uri": "https://localhost:8080/"
        },
        "id": "r3S3vsfHCpB2",
        "outputId": "4ea67822-b67f-4899-e688-6cb426a3874f"
      },
      "execution_count": 16,
      "outputs": [
        {
          "output_type": "stream",
          "name": "stdout",
          "text": [
            "Writing timitFileCreator.py\n"
          ]
        }
      ]
    },
    {
      "cell_type": "code",
      "source": [
        "!pwd"
      ],
      "metadata": {
        "colab": {
          "base_uri": "https://localhost:8080/"
        },
        "id": "NluT6jvQut2Y",
        "outputId": "a7056f18-2e05-4919-aa0d-072f6bfc4b86"
      },
      "execution_count": 17,
      "outputs": [
        {
          "output_type": "stream",
          "name": "stdout",
          "text": [
            "/content/Timit\n"
          ]
        }
      ]
    },
    {
      "cell_type": "code",
      "source": [
        "!python timitFileCreator.py"
      ],
      "metadata": {
        "id": "Ju3QC_JQAFPK"
      },
      "execution_count": 18,
      "outputs": []
    }
  ]
}