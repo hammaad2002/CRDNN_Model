{
  "nbformat": 4,
  "nbformat_minor": 0,
  "metadata": {
    "colab": {
      "provenance": [],
      "authorship_tag": "ABX9TyODxA7axehvJmA6mOM14SDg",
      "include_colab_link": true
    },
    "kernelspec": {
      "name": "python3",
      "display_name": "Python 3"
    },
    "language_info": {
      "name": "python"
    }
  },
  "cells": [
    {
      "cell_type": "markdown",
      "metadata": {
        "id": "view-in-github",
        "colab_type": "text"
      },
      "source": [
        "<a href=\"https://colab.research.google.com/github/hammaad2002/CRDNN_Model/blob/main/Main_File_Train.ipynb\" target=\"_parent\"><img src=\"https://colab.research.google.com/assets/colab-badge.svg\" alt=\"Open In Colab\"/></a>"
      ]
    },
    {
      "cell_type": "code",
      "execution_count": 11,
      "metadata": {
        "id": "R0nK01dDtW-Y"
      },
      "outputs": [],
      "source": [
        "%%capture               \n",
        "!pip install speechbrain\n",
        "!git clone -b main https://github.com/hammaad2002/CRDNN_Model.git"
      ]
    },
    {
      "cell_type": "markdown",
      "source": [
        "In order to train the model from scratch remove the result folder inside the main CRDNN_Model folder by:\n",
        "\n",
        "\n",
        "```\n",
        "import shutil\n",
        "shutil.rmtree(\"path to the result folder\")\n",
        "```\n",
        "Or if you want to continue the training from where it was left then just run the next cell as it is.\n"
      ],
      "metadata": {
        "id": "WAoujw_4A8Y2"
      }
    },
    {
      "cell_type": "code",
      "source": [
        "%cd /content/CRDNN_Model/\n",
        "!python example_asr_ctc_experiment.py hyperparams.yaml"
      ],
      "metadata": {
        "colab": {
          "base_uri": "https://localhost:8080/"
        },
        "id": "Ap8HbZ6_9xqM",
        "outputId": "9e295930-912b-4602-a740-850091729230"
      },
      "execution_count": 12,
      "outputs": [
        {
          "output_type": "stream",
          "name": "stdout",
          "text": [
            "/content/CRDNN_Model\n",
            "speechbrain.core - Beginning experiment!\n",
            "speechbrain.core - Experiment folder: /content/CRDNN_Model/result\n",
            "speechbrain.core - 1.5M trainable parameters in CTCBrain\n",
            "speechbrain.utils.checkpoints - Loading a checkpoint from /content/CRDNN_Model/result/save/CKPT+2023-01-14+15-33-12+00\n",
            "100% 8/8 [00:04<00:00,  1.94it/s, train_loss=0.334]\n",
            "100% 8/8 [00:01<00:00,  5.46it/s]\n",
            "speechbrain.utils.train_logger - epoch: 1 - train loss: 3.34e-01 - valid loss: 3.47e-01, valid PER: 7.93\n",
            "speechbrain.utils.checkpoints - Saved an end-of-epoch checkpoint in /content/CRDNN_Model/result/save/CKPT+2023-01-14+16-04-36+00\n",
            "speechbrain.utils.checkpoints - Deleted checkpoint in /content/CRDNN_Model/result/save/CKPT+2023-01-14+15-33-12+00\n",
            "100% 8/8 [00:03<00:00,  2.12it/s, train_loss=0.242]\n",
            "100% 8/8 [00:01<00:00,  5.63it/s]\n",
            "speechbrain.utils.train_logger - epoch: 2 - train loss: 2.42e-01 - valid loss: 2.32e-01, valid PER: 3.66\n",
            "speechbrain.utils.checkpoints - Saved an end-of-epoch checkpoint in /content/CRDNN_Model/result/save/CKPT+2023-01-14+16-04-41+00\n",
            "speechbrain.utils.checkpoints - Deleted checkpoint in /content/CRDNN_Model/result/save/CKPT+2023-01-14+16-04-36+00\n",
            "speechbrain.utils.checkpoints - Loading a checkpoint from /content/CRDNN_Model/result/save/CKPT+2023-01-14+16-04-41+00\n",
            "100% 8/8 [00:01<00:00,  5.68it/s]\n",
            "speechbrain.utils.train_logger - Epoch loaded: 1 - test loss: 2.32e-01, test PER: 3.66\n"
          ]
        }
      ]
    },
    {
      "cell_type": "markdown",
      "source": [
        "It this case I have further trained the pre-trained the model."
      ],
      "metadata": {
        "id": "a6V-syY-BrmD"
      }
    }
  ]
}