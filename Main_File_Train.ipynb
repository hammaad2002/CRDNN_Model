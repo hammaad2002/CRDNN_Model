{
  "nbformat": 4,
  "nbformat_minor": 0,
  "metadata": {
    "colab": {
      "provenance": [],
      "authorship_tag": "ABX9TyNwo+GgNslGflKsPptIKdzR",
      "include_colab_link": true
    },
    "kernelspec": {
      "name": "python3",
      "display_name": "Python 3"
    },
    "language_info": {
      "name": "python"
    },
    "accelerator": "GPU",
    "gpuClass": "standard"
  },
  "cells": [
    {
      "cell_type": "markdown",
      "metadata": {
        "id": "view-in-github",
        "colab_type": "text"
      },
      "source": [
        "<a href=\"https://colab.research.google.com/github/hammaad2002/CRDNN_Model/blob/Timit/Main_File_Train.ipynb\" target=\"_parent\"><img src=\"https://colab.research.google.com/assets/colab-badge.svg\" alt=\"Open In Colab\"/></a>"
      ]
    },
    {
      "cell_type": "code",
      "source": [
        "from google.colab import drive\n",
        "drive.mount('/content/drive')"
      ],
      "metadata": {
        "id": "5238SKmisktX",
        "outputId": "b7a7a848-6171-4a69-eb0c-b39de0c93f2a",
        "colab": {
          "base_uri": "https://localhost:8080/"
        }
      },
      "execution_count": 18,
      "outputs": [
        {
          "output_type": "stream",
          "name": "stdout",
          "text": [
            "Mounted at /content/drive\n"
          ]
        }
      ]
    },
    {
      "cell_type": "code",
      "source": [
        "import os\n",
        "os.mkdir(\"/content/Timit\")"
      ],
      "metadata": {
        "id": "Zs-aJkhfssQH"
      },
      "execution_count": 19,
      "outputs": []
    },
    {
      "cell_type": "code",
      "source": [
        "import shutil\n",
        "shutil.copy(\"/content/drive/MyDrive/TIMIT/TIMIT.zip\", \"/content/Timit/\")"
      ],
      "metadata": {
        "id": "n6nUKefWsvBI",
        "outputId": "04844a17-f2d4-4b68-9933-e716a5dba6f6",
        "colab": {
          "base_uri": "https://localhost:8080/",
          "height": 35
        }
      },
      "execution_count": 20,
      "outputs": [
        {
          "output_type": "execute_result",
          "data": {
            "text/plain": [
              "'/content/Timit/TIMIT.zip'"
            ],
            "application/vnd.google.colaboratory.intrinsic+json": {
              "type": "string"
            }
          },
          "metadata": {},
          "execution_count": 20
        }
      ]
    },
    {
      "cell_type": "code",
      "source": [
        "import zipfile\n",
        "# Replace 'myzipfile.zip' with the path to your zip file\n",
        "with zipfile.ZipFile('/content/Timit/TIMIT.zip', 'r') as zip_ref:\n",
        "  # Extract the zip file to the 'extract' subdirectory\n",
        "  zip_ref.extractall('/content/Timit/')"
      ],
      "metadata": {
        "id": "7h2NxZR7tAcg"
      },
      "execution_count": 21,
      "outputs": []
    },
    {
      "cell_type": "code",
      "source": [
        "shutil.copytree(\"/content/Timit/data/lisa/data/timit/raw/TIMIT\", \"/content/Timit/TIMITDATA\")"
      ],
      "metadata": {
        "id": "S-ixyfAVsyYW",
        "outputId": "a446342a-65ea-417b-c01d-aac8febd178f",
        "colab": {
          "base_uri": "https://localhost:8080/",
          "height": 35
        }
      },
      "execution_count": 22,
      "outputs": [
        {
          "output_type": "execute_result",
          "data": {
            "text/plain": [
              "'/content/Timit/TIMITDATA'"
            ],
            "application/vnd.google.colaboratory.intrinsic+json": {
              "type": "string"
            }
          },
          "metadata": {},
          "execution_count": 22
        }
      ]
    },
    {
      "cell_type": "code",
      "source": [
        "shutil.rmtree(\"/content/Timit/data/\")"
      ],
      "metadata": {
        "id": "JbTAjQuEsz2G"
      },
      "execution_count": 23,
      "outputs": []
    },
    {
      "cell_type": "code",
      "source": [
        "os.remove(\"/content/Timit/TIMIT.zip\")"
      ],
      "metadata": {
        "id": "r63f0Or_s13m"
      },
      "execution_count": 24,
      "outputs": []
    },
    {
      "cell_type": "code",
      "source": [
        "%cd /content/"
      ],
      "metadata": {
        "id": "FL-bsc4xs3yG",
        "outputId": "7ea8ca14-29a3-4799-a0aa-19e1d0e7641a",
        "colab": {
          "base_uri": "https://localhost:8080/"
        }
      },
      "execution_count": 25,
      "outputs": [
        {
          "output_type": "stream",
          "name": "stdout",
          "text": [
            "/content\n"
          ]
        }
      ]
    },
    {
      "cell_type": "code",
      "execution_count": 27,
      "metadata": {
        "id": "R0nK01dDtW-Y"
      },
      "outputs": [],
      "source": [
        "%%capture               \n",
        "!pip install speechbrain\n",
        "!git clone -b Timit https://github.com/hammaad2002/CRDNN_Model.git"
      ]
    },
    {
      "cell_type": "markdown",
      "source": [
        "In order to train the model from scratch remove the result folder inside the main CRDNN_Model folder by:\n",
        "\n",
        "\n",
        "```\n",
        "import shutil\n",
        "shutil.rmtree(\"path to the result folder\")\n",
        "```\n",
        "Or if you want to continue the training from where it was left then just run the next cell as it is.\n"
      ],
      "metadata": {
        "id": "WAoujw_4A8Y2"
      }
    },
    {
      "cell_type": "code",
      "source": [
        "%cd /content/CRDNN_Model/\n",
        "!python example_asr_ctc_experiment.py hyperparams.yaml"
      ],
      "metadata": {
        "colab": {
          "base_uri": "https://localhost:8080/"
        },
        "id": "Ap8HbZ6_9xqM",
        "outputId": "deb44bd4-754a-463d-9d53-448df869aab5"
      },
      "execution_count": 28,
      "outputs": [
        {
          "output_type": "stream",
          "name": "stdout",
          "text": [
            "/content/CRDNN_Model\n",
            "speechbrain.core - Beginning experiment!\n",
            "speechbrain.core - Experiment folder: /content/CRDNN_Model/result\n",
            "speechbrain.core - 1.5M trainable parameters in CTCBrain\n",
            "speechbrain.utils.checkpoints - Loading a checkpoint from /content/CRDNN_Model/result/save/CKPT+2023-01-15+22-29-25+00\n",
            "100% 3696/3696 [05:23<00:00, 11.43it/s, train_loss=0.512]\n",
            "100% 400/400 [00:10<00:00, 38.94it/s]\n",
            "speechbrain.utils.train_logger - epoch: 1 - train loss: 5.12e-01 - valid loss: 1.19, valid PER: 29.77\n",
            "speechbrain.utils.checkpoints - Saved an end-of-epoch checkpoint in /content/CRDNN_Model/result/save/CKPT+2023-01-15+23-19-57+00\n",
            "speechbrain.utils.checkpoints - Deleted checkpoint in /content/CRDNN_Model/result/save/CKPT+2023-01-15+22-29-25+00\n",
            "speechbrain.utils.checkpoints - Loading a checkpoint from /content/CRDNN_Model/result/save/CKPT+2023-01-15+22-18-52+00\n",
            "100% 192/192 [00:04<00:00, 39.08it/s]\n",
            "speechbrain.utils.train_logger - Epoch loaded: 1 - test loss: 1.24, test PER: 32.31\n"
          ]
        }
      ]
    },
    {
      "cell_type": "markdown",
      "source": [
        "In this case I have further trained the pre-trained model on one more epoch."
      ],
      "metadata": {
        "id": "a6V-syY-BrmD"
      }
    }
  ]
}