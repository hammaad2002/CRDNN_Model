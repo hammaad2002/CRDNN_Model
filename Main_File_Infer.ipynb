{
  "nbformat": 4,
  "nbformat_minor": 0,
  "metadata": {
    "colab": {
      "provenance": [],
      "authorship_tag": "ABX9TyOHTvVGvBXeXqmjaGaiJZW2",
      "include_colab_link": true
    },
    "kernelspec": {
      "name": "python3",
      "display_name": "Python 3"
    },
    "language_info": {
      "name": "python"
    }
  },
  "cells": [
    {
      "cell_type": "markdown",
      "metadata": {
        "id": "view-in-github",
        "colab_type": "text"
      },
      "source": [
        "<a href=\"https://colab.research.google.com/github/hammaad2002/CRDNN_Model/blob/Timit/Main_File_Infer.ipynb\" target=\"_parent\"><img src=\"https://colab.research.google.com/assets/colab-badge.svg\" alt=\"Open In Colab\"/></a>"
      ]
    },
    {
      "cell_type": "code",
      "execution_count": 11,
      "metadata": {
        "id": "R0nK01dDtW-Y"
      },
      "outputs": [],
      "source": [
        "%%capture               \n",
        "!pip install speechbrain\n",
        "!git clone -b Timit https://github.com/hammaad2002/CRDNN_Model.git"
      ]
    },
    {
      "cell_type": "markdown",
      "source": [
        "Uncomment the transcript variable in the code 'example_asr_ctc_experiment.py' file and comment the fit and evaluate function call so that the model doesn't start training again because the model is already trained."
      ],
      "metadata": {
        "id": "9OKb6DzP9nLR"
      }
    },
    {
      "cell_type": "markdown",
      "source": [
        "If still unable to understand what to do just open the above mentioned file and replace #c1 with ' ' ' and #c2 also with ' ' ' and also remove the ' ' ' above and below the \"transcripts\" variable."
      ],
      "metadata": {
        "id": "irvF4NhJ-990"
      }
    },
    {
      "cell_type": "markdown",
      "source": [
        "Format for inferencing is already defined below but I am also mentioning over here:\n",
        "\n",
        "! python file.py(main code) file.yaml(hyperparameters) /path_of_your_voice_clip"
      ],
      "metadata": {
        "id": "8bNHuQxL9ui5"
      }
    },
    {
      "cell_type": "code",
      "source": [
        "%cd /content/CRDNN_Model/\n",
        "# python file.py file.yaml /path of the audio you want the model to infer\n",
        "!python example_asr_ctc_experiment.py hyperparams.yaml /content/CRDNN_Model/SA1.WAV"
      ],
      "metadata": {
        "id": "Ap8HbZ6_9xqM",
        "outputId": "fc0dc356-826c-4eb2-e4b7-8b57dbbe3720",
        "colab": {
          "base_uri": "https://localhost:8080/"
        }
      },
      "execution_count": 8,
      "outputs": [
        {
          "output_type": "stream",
          "name": "stdout",
          "text": [
            "/content/CRDNN_Model\n",
            "speechbrain.core - Beginning experiment!\n",
            "speechbrain.core - Experiment folder: /content/CRDNN_Model/result\n",
            "speechbrain.core - 1.5M trainable parameters in CTCBrain\n",
            "speechbrain.utils.checkpoints - Loading a checkpoint from /content/CRDNN_Model/result/save/CKPT+2023-01-15+22-18-52+00\n",
            "[['zh', 'iy', 'hh', 'ae', 'd', 'y', 'er', 'd', 'ao', 'r', 'k', 's', 'uw', 'd', 'ix', 'n', 'g', 'r', 'iy', 's', 'iy', 'w', 'ao', 'zh', 'w', 'ao', 'dx', 'er', 'ao', 'l', 'iy', 'y', 'er']]\n"
          ]
        }
      ]
    },
    {
      "cell_type": "code",
      "source": [
        "phonemes = []\n",
        "with open(\"/content/CRDNN_Model/SA1.PHN\", \"r\") as file:\n",
        "    for line in file:\n",
        "        line = line.strip().split(\" \")\n",
        "        phonemes.append(line[2])\n",
        "print(\"Ground Truth\")\n",
        "print(phonemes[1:-1])"
      ],
      "metadata": {
        "id": "PNhlkknPncgI",
        "outputId": "d142431d-1371-4895-ec7d-fa8a75e3224f",
        "colab": {
          "base_uri": "https://localhost:8080/"
        }
      },
      "execution_count": 14,
      "outputs": [
        {
          "output_type": "stream",
          "name": "stdout",
          "text": [
            "Ground Truth\n",
            "['sh', 'iy', 'hv', 'ae', 'dcl', 'd', 'y', 'er', 'dcl', 'd', 'aa', 'r', 'kcl', 'k', 's', 'uw', 'dx', 'ih', 'ng', 'gcl', 'g', 'r', 'iy', 's', 'iy', 'w', 'aa', 'sh', 'epi', 'w', 'aa', 'dx', 'er', 'q', 'ao', 'l', 'y', 'iy', 'axr']\n"
          ]
        }
      ]
    }
  ]
}