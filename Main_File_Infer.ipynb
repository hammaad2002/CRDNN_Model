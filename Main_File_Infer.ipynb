{
  "nbformat": 4,
  "nbformat_minor": 0,
  "metadata": {
    "colab": {
      "provenance": [],
      "authorship_tag": "ABX9TyPih+KuxtHEIrR8oSfaJnkO",
      "include_colab_link": true
    },
    "kernelspec": {
      "name": "python3",
      "display_name": "Python 3"
    },
    "language_info": {
      "name": "python"
    }
  },
  "cells": [
    {
      "cell_type": "markdown",
      "metadata": {
        "id": "view-in-github",
        "colab_type": "text"
      },
      "source": [
        "<a href=\"https://colab.research.google.com/github/hammaad2002/CRDNN_Model/blob/main/Main_File_Infer.ipynb\" target=\"_parent\"><img src=\"https://colab.research.google.com/assets/colab-badge.svg\" alt=\"Open In Colab\"/></a>"
      ]
    },
    {
      "cell_type": "code",
      "execution_count": 8,
      "metadata": {
        "id": "R0nK01dDtW-Y"
      },
      "outputs": [],
      "source": [
        "%%capture               \n",
        "!pip install speechbrain\n",
        "!git clone -b main https://github.com/hammaad2002/CRDNN_Model.git"
      ]
    },
    {
      "cell_type": "markdown",
      "source": [
        "Uncomment the transcript variable in the code 'example_asr_ctc_experiment.py' file and comment the fit and evaluate function call so that the model doesn't start training again because the model is already trained."
      ],
      "metadata": {
        "id": "9OKb6DzP9nLR"
      }
    },
    {
      "cell_type": "markdown",
      "source": [
        "If still unable to understand what to do just open the above mentioned file and replace #c1 with ' ' ' and #c2 also with ' ' ' and also remove the ' ' ' above and below the \"transcripts\" variable."
      ],
      "metadata": {
        "id": "irvF4NhJ-990"
      }
    },
    {
      "cell_type": "markdown",
      "source": [
        "Format for inferencing is already defined below but I am also mentioning over here:\n",
        "\n",
        "! python file.py(main code) file.yaml(hyperparameters) /path_of_your_voice_clip"
      ],
      "metadata": {
        "id": "8bNHuQxL9ui5"
      }
    },
    {
      "cell_type": "code",
      "source": [
        "%cd /content/CRDNN_Model/\n",
        "# python file.py file.yaml /path of the audio you want the model to infer\n",
        "!python example_asr_ctc_experiment.py hyperparams.yaml /content/CRDNN_Model/AudioSamplesASR/spk1_snt1.wav"
      ],
      "metadata": {
        "id": "Ap8HbZ6_9xqM",
        "outputId": "0639ac76-bddd-4e41-f8f7-b501947971fb",
        "colab": {
          "base_uri": "https://localhost:8080/"
        }
      },
      "execution_count": 9,
      "outputs": [
        {
          "output_type": "stream",
          "name": "stdout",
          "text": [
            "/content/CRDNN_Model\n",
            "speechbrain.core - Beginning experiment!\n",
            "speechbrain.core - Experiment folder: /content/CRDNN_Model/result\n",
            "speechbrain.core - 1.5M trainable parameters in CTCBrain\n",
            "speechbrain.utils.checkpoints - Loading a checkpoint from /content/CRDNN_Model/result/save/CKPT+2023-01-14+15-33-12+00\n",
            "Phoneme Transcription is below:\n",
            "[['dh', 'ay', 'l', 'd', 'ao', 'l', 'm', 'ow', 't', 'hh', 'er', 't', 'dh', 'ax', 's', 'm', 'ao', 'l', 'd', 'ao']]\n"
          ]
        }
      ]
    }
  ]
}